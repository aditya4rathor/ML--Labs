{
  "nbformat": 4,
  "nbformat_minor": 0,
  "metadata": {
    "colab": {
      "provenance": [],
      "authorship_tag": "ABX9TyN+Kt8RZTILZvYo76zZoPr7",
      "include_colab_link": true
    },
    "kernelspec": {
      "name": "python3",
      "display_name": "Python 3"
    },
    "language_info": {
      "name": "python"
    }
  },
  "cells": [
    {
      "cell_type": "markdown",
      "metadata": {
        "id": "view-in-github",
        "colab_type": "text"
      },
      "source": [
        "<a href=\"https://colab.research.google.com/github/AdityaPaliwal1/ML-Labs/blob/main/Perceptron_ANDGate.ipynb\" target=\"_parent\"><img src=\"https://colab.research.google.com/assets/colab-badge.svg\" alt=\"Open In Colab\"/></a>"
      ]
    },
    {
      "cell_type": "code",
      "execution_count": 1,
      "metadata": {
        "id": "LvVz5bBKyve-"
      },
      "outputs": [],
      "source": [
        "import numpy as np\n"
      ]
    },
    {
      "cell_type": "code",
      "source": [
        "training_inputs = np.array([[0, 0], [0, 1], [1, 0], [1, 1]])\n",
        "\n",
        "labels = np.array([0,1,1,0])"
      ],
      "metadata": {
        "id": "hTU-UJ-tzq8A"
      },
      "execution_count": 5,
      "outputs": []
    },
    {
      "cell_type": "code",
      "source": [
        "class Perceptron:\n",
        "\n",
        "  def __init__(self, input_size, learning_rate=0.01, epochs=100):\n",
        "\n",
        "   self.weights = np.zeros(input_size + 1)\n",
        "\n",
        "   self.learning_rate = learning_rate\n",
        "\n",
        "   self.epochs = epochs\n",
        "\n",
        "  def activation_function(self, x):\n",
        "\n",
        "    return 1 if x >= 0 else 0\n",
        "\n",
        "  def predict(self, inputs):\n",
        "\n",
        "    summation = np.dot(inputs, self.weights[1:]) + self.weights[0]\n",
        "    return self.activation_function(summation)\n",
        "\n",
        "  def train(self, training_inputs, labels):\n",
        "\n",
        "    for _ in range(self.epochs):\n",
        "\n",
        "      for inputs, label in zip(training_inputs, labels):\n",
        "\n",
        "        prediction = self.predict(inputs)\n",
        "\n",
        "        self.weights[1:] += self.learning_rate * (label-prediction) * inputs\n",
        "\n",
        "        self.weights[0] += self.learning_rate * (label - prediction)"
      ],
      "metadata": {
        "id": "ZO4SVPME0bmP"
      },
      "execution_count": 6,
      "outputs": []
    },
    {
      "cell_type": "code",
      "source": [
        "if __name__ == '__main__':\n",
        "  perceptron = Perceptron(input_size=2)\n",
        "  perceptron.train(training_inputs,labels)\n",
        "\n",
        "  print(\"Testing AND gate Perceptron:\")\n",
        "\n",
        "  print(\"0 AND 0 = \", perceptron.predict(np.array([0, 0])))\n",
        "\n",
        "  print(\"0 AND 1 = \", perceptron.predict(np.array([0, 1])))\n",
        "\n",
        "  print(\"1 AND 0 = \", perceptron.predict(np.array([1, 0])))\n",
        "\n",
        "  print(\"1 AND 1 = \", perceptron.predict(np.array([1, 1])))\n"
      ],
      "metadata": {
        "colab": {
          "base_uri": "https://localhost:8080/"
        },
        "id": "W7jG2jyQ0fCP",
        "outputId": "381d4cec-24c6-443f-ba4a-e25bc2cb304b"
      },
      "execution_count": 7,
      "outputs": [
        {
          "output_type": "stream",
          "name": "stdout",
          "text": [
            "Testing AND gate Perceptron:\n",
            "0 AND 0 =  1\n",
            "0 AND 1 =  1\n",
            "1 AND 0 =  0\n",
            "1 AND 1 =  0\n"
          ]
        }
      ]
    }
  ]
}